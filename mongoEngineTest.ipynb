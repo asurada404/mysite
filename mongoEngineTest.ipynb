{
 "cells": [
  {
   "cell_type": "code",
   "execution_count": 74,
   "metadata": {},
   "outputs": [],
   "source": [
    "from mongoengine import *\n",
    "DBName = \"tumblelog\"\n",
    "connect(DBName)\n",
    "\n",
    "class User(Document):\n",
    "    email = StringField(max_length=100)\n",
    "    first_name = StringField(max_length=50)\n",
    "    second_name = StringField(max_length=50)\n",
    "\n",
    "# define embedded document\n",
    "class Comment(EmbeddedDocument):\n",
    "    content = StringField()\n",
    "    name =  StringField(max_length=50)\n",
    "\n",
    "class Post(Document):\n",
    "    title = StringField(max_length = 100)\n",
    "    ## if the reference is delete, delete the post auto\n",
    "    author = ReferenceField(User, reverse_delete_rule=CASCADE)\n",
    "    ##store the tags as a Strings directly within the post\n",
    "    tags = ListField(StringField(max_length=30))\n",
    "    ##store comments\n",
    "    comments = ListField(EmbeddedDocumentField('Comment'))\n",
    "    meta = {\"allow_inheritance\":True}\n",
    "\n",
    "class TextPost(Post):\n",
    "    content = StringField(max_length=200)\n",
    "\n",
    "class ImagePost(Post):\n",
    "    image_link = StringField(max_length=100)\n",
    "\n",
    "class Linkpost(Post):\n",
    "    link_post = StringField(max_length=100)"
   ]
  },
  {
   "cell_type": "code",
   "execution_count": 75,
   "metadata": {},
   "outputs": [],
   "source": [
    "ross = User(email = \"ross@google.com\", first_name='ross', second_name = 'pick')"
   ]
  },
  {
   "cell_type": "code",
   "execution_count": 76,
   "metadata": {},
   "outputs": [],
   "source": [
    "john = User()\n",
    "john.email = \"john@google.com\"\n",
    "john.first_name = \"john\"\n",
    "john.second_name = \"pick\"\n"
   ]
  },
  {
   "cell_type": "code",
   "execution_count": 77,
   "metadata": {},
   "outputs": [
    {
     "data": {
      "text/plain": [
       "<User: User object>"
      ]
     },
     "execution_count": 77,
     "metadata": {},
     "output_type": "execute_result"
    }
   ],
   "source": [
    "ross.save()\n",
    "john.save()"
   ]
  },
  {
   "cell_type": "code",
   "execution_count": 78,
   "metadata": {},
   "outputs": [],
   "source": [
    "post1 = Post()\n",
    "post1.title = 'post1'\n",
    "post1.author = ross\n",
    "post1.tags = ['mongo','post']\n"
   ]
  },
  {
   "cell_type": "code",
   "execution_count": 79,
   "metadata": {},
   "outputs": [],
   "source": [
    "post2 = ImagePost()\n",
    "post2.title = \"this is a Image post\"\n",
    "post2.author = john\n",
    "post2.image_link = \"www.findyoufinally.cn\"\n",
    "post2.tags = ['mongo','image']\n"
   ]
  },
  {
   "cell_type": "code",
   "execution_count": 80,
   "metadata": {},
   "outputs": [],
   "source": [
    "post3 = Post()\n",
    "post3.title = 'post3'\n",
    "post3.author = ross\n",
    "post3.tags = ['mongo','post','post3']\n",
    "\n"
   ]
  },
  {
   "cell_type": "code",
   "execution_count": 81,
   "metadata": {},
   "outputs": [
    {
     "data": {
      "text/plain": [
       "<Post: Post object>"
      ]
     },
     "execution_count": 81,
     "metadata": {},
     "output_type": "execute_result"
    }
   ],
   "source": [
    "post1.save()\n",
    "post2.save()\n",
    "post3.save()"
   ]
  },
  {
   "cell_type": "code",
   "execution_count": 82,
   "metadata": {},
   "outputs": [],
   "source": [
    "comment2 = Comment()\n",
    "comment2.content =\"无力吐槽\"\n",
    "comment2.name = \"this is a comment\"\n"
   ]
  },
  {
   "cell_type": "code",
   "execution_count": 83,
   "metadata": {},
   "outputs": [
    {
     "data": {
      "text/plain": [
       "<Post: Post object>"
      ]
     },
     "execution_count": 83,
     "metadata": {},
     "output_type": "execute_result"
    }
   ],
   "source": [
    "post1.save()"
   ]
  },
  {
   "cell_type": "code",
   "execution_count": 84,
   "metadata": {},
   "outputs": [],
   "source": [
    "post1.comments = [comment2]"
   ]
  },
  {
   "cell_type": "code",
   "execution_count": 85,
   "metadata": {},
   "outputs": [
    {
     "data": {
      "text/plain": [
       "<Post: Post object>"
      ]
     },
     "execution_count": 85,
     "metadata": {},
     "output_type": "execute_result"
    }
   ],
   "source": [
    "post1.save()"
   ]
  },
  {
   "cell_type": "code",
   "execution_count": 86,
   "metadata": {},
   "outputs": [
    {
     "name": "stdout",
     "output_type": "stream",
     "text": [
      "[<Comment: Comment object>]\n",
      "[]\n",
      "[]\n"
     ]
    }
   ],
   "source": [
    "for post in Post.objects:\n",
    "    print(post.comments)"
   ]
  },
  {
   "cell_type": "code",
   "execution_count": 73,
   "metadata": {},
   "outputs": [],
   "source": [
    "for post in Post.objects():\n",
    "    post.delete()"
   ]
  },
  {
   "cell_type": "code",
   "execution_count": null,
   "metadata": {},
   "outputs": [],
   "source": []
  }
 ],
 "metadata": {
  "kernelspec": {
   "display_name": "Python 3",
   "language": "python",
   "name": "python3"
  },
  "language_info": {
   "codemirror_mode": {
    "name": "ipython",
    "version": 3
   },
   "file_extension": ".py",
   "mimetype": "text/x-python",
   "name": "python",
   "nbconvert_exporter": "python",
   "pygments_lexer": "ipython3",
   "version": "3.6.5"
  }
 },
 "nbformat": 4,
 "nbformat_minor": 2
}
